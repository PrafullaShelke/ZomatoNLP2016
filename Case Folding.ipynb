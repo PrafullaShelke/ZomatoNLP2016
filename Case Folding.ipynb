{
 "cells": [
  {
   "cell_type": "markdown",
   "metadata": {},
   "source": [
    "## Redundant entries removed and case folding"
   ]
  },
  {
   "cell_type": "code",
   "execution_count": 2,
   "metadata": {
    "collapsed": true
   },
   "outputs": [],
   "source": [
    "import pandas as pd"
   ]
  },
  {
   "cell_type": "code",
   "execution_count": 3,
   "metadata": {
    "collapsed": false
   },
   "outputs": [
    {
     "name": "stdout",
     "output_type": "stream",
     "text": [
      "Number of rows in the dataset : \n"
     ]
    },
    {
     "data": {
      "text/plain": [
       "71055"
      ]
     },
     "execution_count": 3,
     "metadata": {},
     "output_type": "execute_result"
    }
   ],
   "source": [
    "df=pd.read_csv(\"datasets\\\\1.data_original.csv\",encoding=\"latin1\")\n",
    "print 'Number of rows in the dataset : '\n",
    "len(df)\n",
    "\n"
   ]
  },
  {
   "cell_type": "code",
   "execution_count": 4,
   "metadata": {
    "collapsed": false
   },
   "outputs": [],
   "source": [
    "# now remove redundant entries and clean our data\n",
    "df.drop_duplicates(subset='Reviews',inplace=True)\n",
    "df.dropna(inplace=True)\n",
    "df.drop('Unnamed: 0',axis=1,inplace=True)\n",
    "#df.reindex(range(0,len(df)),inplace=True)\n",
    "df.reset_index(inplace=True)\n",
    "df.drop('index',axis=1,inplace=True)"
   ]
  },
  {
   "cell_type": "code",
   "execution_count": 5,
   "metadata": {
    "collapsed": false
   },
   "outputs": [
    {
     "name": "stdout",
     "output_type": "stream",
     "text": [
      "Number of rows in dataset after removing redundant entries :\n"
     ]
    },
    {
     "data": {
      "text/plain": [
       "44277"
      ]
     },
     "execution_count": 5,
     "metadata": {},
     "output_type": "execute_result"
    }
   ],
   "source": [
    "print 'Number of rows in dataset after removing redundant entries :'\n",
    "len(df)"
   ]
  },
  {
   "cell_type": "markdown",
   "metadata": {},
   "source": [
    "### convert the review to lower case (case folding)"
   ]
  },
  {
   "cell_type": "code",
   "execution_count": 6,
   "metadata": {
    "collapsed": false
   },
   "outputs": [],
   "source": [
    "df['Reviews']=df['Reviews'].str.lower()"
   ]
  },
  {
   "cell_type": "code",
   "execution_count": 7,
   "metadata": {
    "collapsed": false
   },
   "outputs": [
    {
     "data": {
      "text/html": [
       "<div>\n",
       "<table border=\"1\" class=\"dataframe\">\n",
       "  <thead>\n",
       "    <tr style=\"text-align: right;\">\n",
       "      <th></th>\n",
       "      <th>Rating</th>\n",
       "      <th>Reviews</th>\n",
       "      <th>hotel</th>\n",
       "      <th>label</th>\n",
       "    </tr>\n",
       "  </thead>\n",
       "  <tbody>\n",
       "    <tr>\n",
       "      <th>0</th>\n",
       "      <td>3.5</td>\n",
       "      <td>just been to pandara market and its impossible...</td>\n",
       "      <td>gulati-pandara-road-new-delhi</td>\n",
       "      <td>Good</td>\n",
       "    </tr>\n",
       "    <tr>\n",
       "      <th>1</th>\n",
       "      <td>4.5</td>\n",
       "      <td>i went to try their special navratra khas thal...</td>\n",
       "      <td>gulati-pandara-road-new-delhi</td>\n",
       "      <td>Excellent</td>\n",
       "    </tr>\n",
       "    <tr>\n",
       "      <th>2</th>\n",
       "      <td>4</td>\n",
       "      <td>gulati at pandara road is a great place to hav...</td>\n",
       "      <td>gulati-pandara-road-new-delhi</td>\n",
       "      <td>Very Good</td>\n",
       "    </tr>\n",
       "    <tr>\n",
       "      <th>3</th>\n",
       "      <td>4.5</td>\n",
       "      <td>gulati is a famous restaurant thar serves nort...</td>\n",
       "      <td>gulati-pandara-road-new-delhi</td>\n",
       "      <td>Excellent</td>\n",
       "    </tr>\n",
       "    <tr>\n",
       "      <th>4</th>\n",
       "      <td>4.5</td>\n",
       "      <td>last week turned out to be a bit of a food org...</td>\n",
       "      <td>gulati-pandara-road-new-delhi</td>\n",
       "      <td>Excellent</td>\n",
       "    </tr>\n",
       "    <tr>\n",
       "      <th>5</th>\n",
       "      <td>4.5</td>\n",
       "      <td>just have the tastiest butter chicken.... ever...</td>\n",
       "      <td>gulati-pandara-road-new-delhi</td>\n",
       "      <td>Excellent</td>\n",
       "    </tr>\n",
       "    <tr>\n",
       "      <th>6</th>\n",
       "      <td>4.5</td>\n",
       "      <td>the day before i visited gulatis nearly after ...</td>\n",
       "      <td>gulati-pandara-road-new-delhi</td>\n",
       "      <td>Excellent</td>\n",
       "    </tr>\n",
       "    <tr>\n",
       "      <th>7</th>\n",
       "      <td>4.5</td>\n",
       "      <td>i took some out of town friends for lunch here...</td>\n",
       "      <td>gulati-pandara-road-new-delhi</td>\n",
       "      <td>Excellent</td>\n",
       "    </tr>\n",
       "    <tr>\n",
       "      <th>8</th>\n",
       "      <td>4.5</td>\n",
       "      <td>two separate restaurants (and kitchens) - one ...</td>\n",
       "      <td>gulati-pandara-road-new-delhi</td>\n",
       "      <td>Excellent</td>\n",
       "    </tr>\n",
       "    <tr>\n",
       "      <th>9</th>\n",
       "      <td>4</td>\n",
       "      <td>one of the most popular outlet in the pandara ...</td>\n",
       "      <td>gulati-pandara-road-new-delhi</td>\n",
       "      <td>Very Good</td>\n",
       "    </tr>\n",
       "  </tbody>\n",
       "</table>\n",
       "</div>"
      ],
      "text/plain": [
       "  Rating                                            Reviews  \\\n",
       "0    3.5  just been to pandara market and its impossible...   \n",
       "1    4.5  i went to try their special navratra khas thal...   \n",
       "2      4  gulati at pandara road is a great place to hav...   \n",
       "3    4.5  gulati is a famous restaurant thar serves nort...   \n",
       "4    4.5  last week turned out to be a bit of a food org...   \n",
       "5    4.5  just have the tastiest butter chicken.... ever...   \n",
       "6    4.5  the day before i visited gulatis nearly after ...   \n",
       "7    4.5  i took some out of town friends for lunch here...   \n",
       "8    4.5  two separate restaurants (and kitchens) - one ...   \n",
       "9      4  one of the most popular outlet in the pandara ...   \n",
       "\n",
       "                           hotel      label  \n",
       "0  gulati-pandara-road-new-delhi       Good  \n",
       "1  gulati-pandara-road-new-delhi  Excellent  \n",
       "2  gulati-pandara-road-new-delhi  Very Good  \n",
       "3  gulati-pandara-road-new-delhi  Excellent  \n",
       "4  gulati-pandara-road-new-delhi  Excellent  \n",
       "5  gulati-pandara-road-new-delhi  Excellent  \n",
       "6  gulati-pandara-road-new-delhi  Excellent  \n",
       "7  gulati-pandara-road-new-delhi  Excellent  \n",
       "8  gulati-pandara-road-new-delhi  Excellent  \n",
       "9  gulati-pandara-road-new-delhi  Very Good  "
      ]
     },
     "execution_count": 7,
     "metadata": {},
     "output_type": "execute_result"
    }
   ],
   "source": [
    "df.head(10)"
   ]
  },
  {
   "cell_type": "code",
   "execution_count": 8,
   "metadata": {
    "collapsed": true
   },
   "outputs": [],
   "source": [
    "# write the data back to a new csv file\n",
    "df.to_csv(\"datasets\\\\3.data_case_folded.csv\",mode='w',headers=False,encoding=\"latin1\")"
   ]
  },
  {
   "cell_type": "code",
   "execution_count": 9,
   "metadata": {
    "collapsed": false
   },
   "outputs": [
    {
     "data": {
      "text/plain": [
       "44277"
      ]
     },
     "execution_count": 9,
     "metadata": {},
     "output_type": "execute_result"
    }
   ],
   "source": [
    "len(df)"
   ]
  },
  {
   "cell_type": "code",
   "execution_count": null,
   "metadata": {
    "collapsed": true
   },
   "outputs": [],
   "source": []
  }
 ],
 "metadata": {
  "anaconda-cloud": {},
  "kernelspec": {
   "display_name": "Python [conda root]",
   "language": "python",
   "name": "conda-root-py"
  },
  "language_info": {
   "codemirror_mode": {
    "name": "ipython",
    "version": 2
   },
   "file_extension": ".py",
   "mimetype": "text/x-python",
   "name": "python",
   "nbconvert_exporter": "python",
   "pygments_lexer": "ipython2",
   "version": "2.7.12"
  }
 },
 "nbformat": 4,
 "nbformat_minor": 1
}
