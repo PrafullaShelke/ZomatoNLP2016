{
 "cells": [
  {
   "cell_type": "code",
   "execution_count": null,
   "metadata": {
    "collapsed": true
   },
   "outputs": [],
   "source": []
  },
  {
   "cell_type": "code",
   "execution_count": 106,
   "metadata": {
    "collapsed": false
   },
   "outputs": [],
   "source": [
    "import pandas as pd\n",
    "\n",
    "# read the csv file using pandas\n",
    "df=pd.read_csv(\"datasets\\\\3.data_case_folded.csv\",encoding=\"latin1\")"
   ]
  },
  {
   "cell_type": "code",
   "execution_count": 107,
   "metadata": {
    "collapsed": false
   },
   "outputs": [
    {
     "data": {
      "text/html": [
       "<div>\n",
       "<table border=\"1\" class=\"dataframe\">\n",
       "  <thead>\n",
       "    <tr style=\"text-align: right;\">\n",
       "      <th></th>\n",
       "      <th>Unnamed: 0</th>\n",
       "      <th>Rating</th>\n",
       "      <th>Reviews</th>\n",
       "      <th>hotel</th>\n",
       "      <th>label</th>\n",
       "    </tr>\n",
       "  </thead>\n",
       "  <tbody>\n",
       "    <tr>\n",
       "      <th>0</th>\n",
       "      <td>0</td>\n",
       "      <td>3.5</td>\n",
       "      <td>just been to pandara market and its impossible...</td>\n",
       "      <td>gulati-pandara-road-new-delhi</td>\n",
       "      <td>Good</td>\n",
       "    </tr>\n",
       "    <tr>\n",
       "      <th>1</th>\n",
       "      <td>1</td>\n",
       "      <td>4.5</td>\n",
       "      <td>i went to try their special navratra khas thal...</td>\n",
       "      <td>gulati-pandara-road-new-delhi</td>\n",
       "      <td>Excellent</td>\n",
       "    </tr>\n",
       "    <tr>\n",
       "      <th>2</th>\n",
       "      <td>2</td>\n",
       "      <td>4.0</td>\n",
       "      <td>gulati at pandara road is a great place to hav...</td>\n",
       "      <td>gulati-pandara-road-new-delhi</td>\n",
       "      <td>Very Good</td>\n",
       "    </tr>\n",
       "    <tr>\n",
       "      <th>3</th>\n",
       "      <td>3</td>\n",
       "      <td>4.5</td>\n",
       "      <td>gulati is a famous restaurant thar serves nort...</td>\n",
       "      <td>gulati-pandara-road-new-delhi</td>\n",
       "      <td>Excellent</td>\n",
       "    </tr>\n",
       "    <tr>\n",
       "      <th>4</th>\n",
       "      <td>4</td>\n",
       "      <td>4.5</td>\n",
       "      <td>last week turned out to be a bit of a food org...</td>\n",
       "      <td>gulati-pandara-road-new-delhi</td>\n",
       "      <td>Excellent</td>\n",
       "    </tr>\n",
       "  </tbody>\n",
       "</table>\n",
       "</div>"
      ],
      "text/plain": [
       "   Unnamed: 0  Rating                                            Reviews  \\\n",
       "0           0     3.5  just been to pandara market and its impossible...   \n",
       "1           1     4.5  i went to try their special navratra khas thal...   \n",
       "2           2     4.0  gulati at pandara road is a great place to hav...   \n",
       "3           3     4.5  gulati is a famous restaurant thar serves nort...   \n",
       "4           4     4.5  last week turned out to be a bit of a food org...   \n",
       "\n",
       "                           hotel      label  \n",
       "0  gulati-pandara-road-new-delhi       Good  \n",
       "1  gulati-pandara-road-new-delhi  Excellent  \n",
       "2  gulati-pandara-road-new-delhi  Very Good  \n",
       "3  gulati-pandara-road-new-delhi  Excellent  \n",
       "4  gulati-pandara-road-new-delhi  Excellent  "
      ]
     },
     "execution_count": 107,
     "metadata": {},
     "output_type": "execute_result"
    }
   ],
   "source": [
    "df.head()"
   ]
  },
  {
   "cell_type": "code",
   "execution_count": 108,
   "metadata": {
    "collapsed": false
   },
   "outputs": [
    {
     "data": {
      "text/plain": [
       "44277"
      ]
     },
     "execution_count": 108,
     "metadata": {},
     "output_type": "execute_result"
    }
   ],
   "source": [
    "len(df)"
   ]
  },
  {
   "cell_type": "code",
   "execution_count": 109,
   "metadata": {
    "collapsed": true
   },
   "outputs": [],
   "source": [
    "# include the stopwords file and create a list of it\n",
    "import re\n",
    "def words(text): return re.findall(r'\\w+', text.lower())\n",
    "remove_wordset=words(open('stopwords.txt').read())"
   ]
  },
  {
   "cell_type": "code",
   "execution_count": 110,
   "metadata": {
    "collapsed": false
   },
   "outputs": [
    {
     "data": {
      "text/plain": [
       "['a',\n",
       " 'a',\n",
       " 's',\n",
       " 'able',\n",
       " 'about',\n",
       " 'above',\n",
       " 'according',\n",
       " 'accordingly',\n",
       " 'across',\n",
       " 'actually']"
      ]
     },
     "execution_count": 110,
     "metadata": {},
     "output_type": "execute_result"
    }
   ],
   "source": [
    "remove_wordset[:10]"
   ]
  },
  {
   "cell_type": "code",
   "execution_count": 111,
   "metadata": {
    "collapsed": true
   },
   "outputs": [],
   "source": [
    "# define the method to remove the stopwords\n",
    "def isContain(x):\n",
    "    if x in remove_wordset:\n",
    "        return \"\"\n",
    "    else:\n",
    "        return x"
   ]
  },
  {
   "cell_type": "code",
   "execution_count": 112,
   "metadata": {
    "collapsed": false
   },
   "outputs": [
    {
     "data": {
      "text/plain": [
       "''"
      ]
     },
     "execution_count": 112,
     "metadata": {},
     "output_type": "execute_result"
    }
   ],
   "source": [
    "# sample run of the method\n",
    "isContain('they')"
   ]
  },
  {
   "cell_type": "code",
   "execution_count": 113,
   "metadata": {
    "collapsed": false
   },
   "outputs": [
    {
     "data": {
      "text/plain": [
       "u'wondrous and dreamy it was, located in the heart of delhi,with exquisite interiors,my eyes could relish the warmth of dim lightening and awesome music in the dining area .and yeah then came the first drink i ordered !! it was all for the purpose of feast as if royality dripping from the vase of fog with aam panna in it,which tasted super tangy and it served well to cool your senses.'"
      ]
     },
     "execution_count": 113,
     "metadata": {},
     "output_type": "execute_result"
    }
   ],
   "source": [
    "df['Reviews'][10]"
   ]
  },
  {
   "cell_type": "code",
   "execution_count": 114,
   "metadata": {
    "collapsed": false
   },
   "outputs": [
    {
     "name": "stdout",
     "output_type": "stream",
     "text": [
      "44276\n"
     ]
    }
   ],
   "source": [
    "from IPython.display import clear_output\n",
    "for i in range(0,len(df)):\n",
    "    df['Reviews'][i]=\" \".join(isContain(x) for x in df['Reviews'][i].split())\n",
    "    df['Reviews'][i]=\" \".join(df['Reviews'][i].split())\n",
    "    print i\n",
    "    clear_output(wait=True)"
   ]
  },
  {
   "cell_type": "code",
   "execution_count": 116,
   "metadata": {
    "collapsed": false
   },
   "outputs": [
    {
     "data": {
      "text/plain": [
       "u'wondrous dreamy was, located heart delhi,with exquisite interiors,my eyes relish warmth dim lightening awesome music dining area .and yeah drink ordered !! purpose feast royality dripping vase fog aam panna it,which tasted super tangy served cool senses.'"
      ]
     },
     "execution_count": 116,
     "metadata": {},
     "output_type": "execute_result"
    }
   ],
   "source": [
    "df['Reviews'][10]"
   ]
  },
  {
   "cell_type": "code",
   "execution_count": 118,
   "metadata": {
    "collapsed": true
   },
   "outputs": [],
   "source": [
    "# write the data back to a new csv file\n",
    "df.to_csv(\"datasets\\\\4.data_stopword_removed.csv\",mode='w',headers=False,encoding=\"latin1\")"
   ]
  },
  {
   "cell_type": "code",
   "execution_count": null,
   "metadata": {
    "collapsed": true
   },
   "outputs": [],
   "source": []
  }
 ],
 "metadata": {
  "anaconda-cloud": {},
  "kernelspec": {
   "display_name": "Python [conda root]",
   "language": "python",
   "name": "conda-root-py"
  }
 },
 "nbformat": 4,
 "nbformat_minor": 1
}
