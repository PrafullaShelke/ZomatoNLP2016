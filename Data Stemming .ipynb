{
 "cells": [
  {
   "cell_type": "markdown",
   "metadata": {},
   "source": [
    "## Stemming of dataset"
   ]
  },
  {
   "cell_type": "code",
   "execution_count": 19,
   "metadata": {
    "collapsed": true
   },
   "outputs": [],
   "source": [
    "import pandas as pd"
   ]
  },
  {
   "cell_type": "code",
   "execution_count": 20,
   "metadata": {
    "collapsed": false
   },
   "outputs": [
    {
     "name": "stdout",
     "output_type": "stream",
     "text": [
      "Number of rows in the dataset : \n"
     ]
    },
    {
     "data": {
      "text/plain": [
       "44277"
      ]
     },
     "execution_count": 20,
     "metadata": {},
     "output_type": "execute_result"
    }
   ],
   "source": [
    "df=pd.read_csv(\"datasets\\\\4.data_stopword_removed.csv\",encoding=\"latin1\")\n",
    "print 'Number of rows in the dataset : '\n",
    "len(df)\n"
   ]
  },
  {
   "cell_type": "code",
   "execution_count": 21,
   "metadata": {
    "collapsed": true
   },
   "outputs": [],
   "source": [
    "from nltk.stem.lancaster import LancasterStemmer\n",
    "from nltk.stem import WordNetLemmatizer,PorterStemmer"
   ]
  },
  {
   "cell_type": "code",
   "execution_count": 22,
   "metadata": {
    "collapsed": true
   },
   "outputs": [],
   "source": [
    "stemmer=PorterStemmer()"
   ]
  },
  {
   "cell_type": "code",
   "execution_count": 23,
   "metadata": {
    "collapsed": false
   },
   "outputs": [
    {
     "data": {
      "text/html": [
       "<div>\n",
       "<table border=\"1\" class=\"dataframe\">\n",
       "  <thead>\n",
       "    <tr style=\"text-align: right;\">\n",
       "      <th></th>\n",
       "      <th>Unnamed: 0</th>\n",
       "      <th>Rating</th>\n",
       "      <th>Reviews</th>\n",
       "      <th>hotel</th>\n",
       "      <th>label</th>\n",
       "    </tr>\n",
       "  </thead>\n",
       "  <tbody>\n",
       "    <tr>\n",
       "      <th>0</th>\n",
       "      <td>0</td>\n",
       "      <td>3.5</td>\n",
       "      <td>pandara market impossible visit gulati. veg se...</td>\n",
       "      <td>gulati-pandara-road-new-delhi</td>\n",
       "      <td>Good</td>\n",
       "    </tr>\n",
       "    <tr>\n",
       "      <th>1</th>\n",
       "      <td>1</td>\n",
       "      <td>4.5</td>\n",
       "      <td>special navratra khas thali navratras</td>\n",
       "      <td>gulati-pandara-road-new-delhi</td>\n",
       "      <td>Excellent</td>\n",
       "    </tr>\n",
       "    <tr>\n",
       "      <th>2</th>\n",
       "      <td>2</td>\n",
       "      <td>4.0</td>\n",
       "      <td>gulati pandara road great place mouth watering...</td>\n",
       "      <td>gulati-pandara-road-new-delhi</td>\n",
       "      <td>Very Good</td>\n",
       "    </tr>\n",
       "    <tr>\n",
       "      <th>3</th>\n",
       "      <td>3</td>\n",
       "      <td>4.5</td>\n",
       "      <td>gulati famous restaurant thar serves north ind...</td>\n",
       "      <td>gulati-pandara-road-new-delhi</td>\n",
       "      <td>Excellent</td>\n",
       "    </tr>\n",
       "    <tr>\n",
       "      <th>4</th>\n",
       "      <td>4</td>\n",
       "      <td>4.5</td>\n",
       "      <td>week turned bit food orgy chance visit amazing...</td>\n",
       "      <td>gulati-pandara-road-new-delhi</td>\n",
       "      <td>Excellent</td>\n",
       "    </tr>\n",
       "  </tbody>\n",
       "</table>\n",
       "</div>"
      ],
      "text/plain": [
       "   Unnamed: 0  Rating                                            Reviews  \\\n",
       "0           0     3.5  pandara market impossible visit gulati. veg se...   \n",
       "1           1     4.5              special navratra khas thali navratras   \n",
       "2           2     4.0  gulati pandara road great place mouth watering...   \n",
       "3           3     4.5  gulati famous restaurant thar serves north ind...   \n",
       "4           4     4.5  week turned bit food orgy chance visit amazing...   \n",
       "\n",
       "                           hotel      label  \n",
       "0  gulati-pandara-road-new-delhi       Good  \n",
       "1  gulati-pandara-road-new-delhi  Excellent  \n",
       "2  gulati-pandara-road-new-delhi  Very Good  \n",
       "3  gulati-pandara-road-new-delhi  Excellent  \n",
       "4  gulati-pandara-road-new-delhi  Excellent  "
      ]
     },
     "execution_count": 23,
     "metadata": {},
     "output_type": "execute_result"
    }
   ],
   "source": [
    "df.head()"
   ]
  },
  {
   "cell_type": "code",
   "execution_count": 24,
   "metadata": {
    "collapsed": false
   },
   "outputs": [
    {
     "data": {
      "text/plain": [
       "u\"day visited gulatis years, it's superb food. dahi ke kebab kakori kebab melts mouth highly recommended. khasta roti paneer lababdar, gravy thick, paneer soft masalas perfect. mocktail dont recall remember it, pineapple, mango icecream, them. place doubt legendary outlets delhi north indian delicacies. staff excellent service. quantity serve true money charge.\""
      ]
     },
     "execution_count": 24,
     "metadata": {},
     "output_type": "execute_result"
    }
   ],
   "source": [
    "# sample data before stemming\n",
    "df['Reviews'][6]"
   ]
  },
  {
   "cell_type": "code",
   "execution_count": 40,
   "metadata": {
    "collapsed": false
   },
   "outputs": [
    {
     "name": "stdout",
     "output_type": "stream",
     "text": [
      "44276\n"
     ]
    }
   ],
   "source": [
    "from IPython.display import clear_output\n",
    "for i in range(1,len(df)):\n",
    "    df['Reviews'][i]=\" \".join([stemmer.stem(x) for x in df['Reviews'][i].split()])\n",
    "    print i\n",
    "    clear_output(wait=True)"
   ]
  },
  {
   "cell_type": "code",
   "execution_count": 41,
   "metadata": {
    "collapsed": false
   },
   "outputs": [
    {
     "data": {
      "text/plain": [
       "u\"day visit gulati years, it' superb food. dahi ke kebab kakori kebab melt mouth highli recommended. khasta roti paneer lababdar, gravi thick, paneer soft masala perfect. mocktail dont recal rememb it, pineapple, mango icecream, them. place doubt legendari outlet delhi north indian delicacies. staff excel service. quantiti serv true money charge.\""
      ]
     },
     "execution_count": 41,
     "metadata": {},
     "output_type": "execute_result"
    }
   ],
   "source": [
    "df['Reviews'][6]"
   ]
  },
  {
   "cell_type": "code",
   "execution_count": 42,
   "metadata": {
    "collapsed": true
   },
   "outputs": [],
   "source": [
    "# write the data back to a new csv file\n",
    "df.to_csv(\"datasets\\\\5.data_stemmed.csv\",mode='w',headers=False,encoding=\"latin1\")"
   ]
  },
  {
   "cell_type": "code",
   "execution_count": null,
   "metadata": {
    "collapsed": true
   },
   "outputs": [],
   "source": []
  }
 ],
 "metadata": {
  "kernelspec": {
   "display_name": "Python [conda root]",
   "language": "python",
   "name": "conda-root-py"
  },
  "language_info": {
   "codemirror_mode": {
    "name": "ipython",
    "version": 2
   },
   "file_extension": ".py",
   "mimetype": "text/x-python",
   "name": "python",
   "nbconvert_exporter": "python",
   "pygments_lexer": "ipython2",
   "version": "2.7.12"
  }
 },
 "nbformat": 4,
 "nbformat_minor": 1
}
